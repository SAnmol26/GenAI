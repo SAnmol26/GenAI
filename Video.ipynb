{
  "nbformat": 4,
  "nbformat_minor": 0,
  "metadata": {
    "colab": {
      "provenance": [],
      "authorship_tag": "ABX9TyPfWhlwd6pv2XyGAHR4SlDz",
      "include_colab_link": true
    },
    "kernelspec": {
      "name": "python3",
      "display_name": "Python 3"
    },
    "language_info": {
      "name": "python"
    }
  },
  "cells": [
    {
      "cell_type": "markdown",
      "metadata": {
        "id": "view-in-github",
        "colab_type": "text"
      },
      "source": [
        "<a href=\"https://colab.research.google.com/github/SAnmol26/GenAI/blob/main/Video.ipynb\" target=\"_parent\"><img src=\"https://colab.research.google.com/assets/colab-badge.svg\" alt=\"Open In Colab\"/></a>"
      ]
    },
    {
      "cell_type": "markdown",
      "source": [
        "# **VIDEO**\n",
        "https://drive.google.com/file/d/1Voh4jJbff5Lk5zBhp69ZnbBmqdvneTij/view?usp=drive_link"
      ],
      "metadata": {
        "id": "L5SgHEmzFvAw"
      }
    }
  ]
}