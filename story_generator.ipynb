{
  "nbformat": 4,
  "nbformat_minor": 0,
  "metadata": {
    "colab": {
      "provenance": [],
      "authorship_tag": "ABX9TyOpDhPNMFDEz97FoBmtlkNL",
      "include_colab_link": true
    },
    "kernelspec": {
      "name": "python3",
      "display_name": "Python 3"
    },
    "language_info": {
      "name": "python"
    },
    "widgets": {
      "application/vnd.jupyter.widget-state+json": {
        "1956eeb9e5ff46a29dad3905555c4382": {
          "model_module": "@jupyter-widgets/controls",
          "model_name": "DropdownModel",
          "model_module_version": "1.5.0",
          "state": {
            "_dom_classes": [],
            "_model_module": "@jupyter-widgets/controls",
            "_model_module_version": "1.5.0",
            "_model_name": "DropdownModel",
            "_options_labels": [
              "character1.jpg",
              "character2.jpg"
            ],
            "_view_count": null,
            "_view_module": "@jupyter-widgets/controls",
            "_view_module_version": "1.5.0",
            "_view_name": "DropdownView",
            "description": "Select Character:",
            "description_tooltip": null,
            "disabled": false,
            "index": 0,
            "layout": "IPY_MODEL_eba4351e431e4e0e976ced802e2abf8a",
            "style": "IPY_MODEL_0ed5788cb7a343c8aa0d5a978f1d0dd2"
          }
        },
        "eba4351e431e4e0e976ced802e2abf8a": {
          "model_module": "@jupyter-widgets/base",
          "model_name": "LayoutModel",
          "model_module_version": "1.2.0",
          "state": {
            "_model_module": "@jupyter-widgets/base",
            "_model_module_version": "1.2.0",
            "_model_name": "LayoutModel",
            "_view_count": null,
            "_view_module": "@jupyter-widgets/base",
            "_view_module_version": "1.2.0",
            "_view_name": "LayoutView",
            "align_content": null,
            "align_items": null,
            "align_self": null,
            "border": null,
            "bottom": null,
            "display": null,
            "flex": null,
            "flex_flow": null,
            "grid_area": null,
            "grid_auto_columns": null,
            "grid_auto_flow": null,
            "grid_auto_rows": null,
            "grid_column": null,
            "grid_gap": null,
            "grid_row": null,
            "grid_template_areas": null,
            "grid_template_columns": null,
            "grid_template_rows": null,
            "height": null,
            "justify_content": null,
            "justify_items": null,
            "left": null,
            "margin": null,
            "max_height": null,
            "max_width": null,
            "min_height": null,
            "min_width": null,
            "object_fit": null,
            "object_position": null,
            "order": null,
            "overflow": null,
            "overflow_x": null,
            "overflow_y": null,
            "padding": null,
            "right": null,
            "top": null,
            "visibility": null,
            "width": null
          }
        },
        "0ed5788cb7a343c8aa0d5a978f1d0dd2": {
          "model_module": "@jupyter-widgets/controls",
          "model_name": "DescriptionStyleModel",
          "model_module_version": "1.5.0",
          "state": {
            "_model_module": "@jupyter-widgets/controls",
            "_model_module_version": "1.5.0",
            "_model_name": "DescriptionStyleModel",
            "_view_count": null,
            "_view_module": "@jupyter-widgets/base",
            "_view_module_version": "1.2.0",
            "_view_name": "StyleView",
            "description_width": ""
          }
        },
        "9d5f1bfec18d4a6d90ddc03d2bf7511a": {
          "model_module": "@jupyter-widgets/controls",
          "model_name": "DropdownModel",
          "model_module_version": "1.5.0",
          "state": {
            "_dom_classes": [],
            "_model_module": "@jupyter-widgets/controls",
            "_model_module_version": "1.5.0",
            "_model_name": "DropdownModel",
            "_options_labels": [
              "background1.jpg",
              "background2.jpg"
            ],
            "_view_count": null,
            "_view_module": "@jupyter-widgets/controls",
            "_view_module_version": "1.5.0",
            "_view_name": "DropdownView",
            "description": "Select Background:",
            "description_tooltip": null,
            "disabled": false,
            "index": 0,
            "layout": "IPY_MODEL_bf959edd6c1a42f3b23d93c3d420837d",
            "style": "IPY_MODEL_7a2ded9c7f284b55bb100765462202b4"
          }
        },
        "bf959edd6c1a42f3b23d93c3d420837d": {
          "model_module": "@jupyter-widgets/base",
          "model_name": "LayoutModel",
          "model_module_version": "1.2.0",
          "state": {
            "_model_module": "@jupyter-widgets/base",
            "_model_module_version": "1.2.0",
            "_model_name": "LayoutModel",
            "_view_count": null,
            "_view_module": "@jupyter-widgets/base",
            "_view_module_version": "1.2.0",
            "_view_name": "LayoutView",
            "align_content": null,
            "align_items": null,
            "align_self": null,
            "border": null,
            "bottom": null,
            "display": null,
            "flex": null,
            "flex_flow": null,
            "grid_area": null,
            "grid_auto_columns": null,
            "grid_auto_flow": null,
            "grid_auto_rows": null,
            "grid_column": null,
            "grid_gap": null,
            "grid_row": null,
            "grid_template_areas": null,
            "grid_template_columns": null,
            "grid_template_rows": null,
            "height": null,
            "justify_content": null,
            "justify_items": null,
            "left": null,
            "margin": null,
            "max_height": null,
            "max_width": null,
            "min_height": null,
            "min_width": null,
            "object_fit": null,
            "object_position": null,
            "order": null,
            "overflow": null,
            "overflow_x": null,
            "overflow_y": null,
            "padding": null,
            "right": null,
            "top": null,
            "visibility": null,
            "width": null
          }
        },
        "7a2ded9c7f284b55bb100765462202b4": {
          "model_module": "@jupyter-widgets/controls",
          "model_name": "DescriptionStyleModel",
          "model_module_version": "1.5.0",
          "state": {
            "_model_module": "@jupyter-widgets/controls",
            "_model_module_version": "1.5.0",
            "_model_name": "DescriptionStyleModel",
            "_view_count": null,
            "_view_module": "@jupyter-widgets/base",
            "_view_module_version": "1.2.0",
            "_view_name": "StyleView",
            "description_width": ""
          }
        },
        "0dcb638cd21441a6b09a612d4b9359cc": {
          "model_module": "@jupyter-widgets/controls",
          "model_name": "TextModel",
          "model_module_version": "1.5.0",
          "state": {
            "_dom_classes": [],
            "_model_module": "@jupyter-widgets/controls",
            "_model_module_version": "1.5.0",
            "_model_name": "TextModel",
            "_view_count": null,
            "_view_module": "@jupyter-widgets/controls",
            "_view_module_version": "1.5.0",
            "_view_name": "TextView",
            "continuous_update": true,
            "description": "Story Text:",
            "description_tooltip": null,
            "disabled": false,
            "layout": "IPY_MODEL_4a008ac2a2d04856bb70f55b85c2ddb7",
            "placeholder": "​",
            "style": "IPY_MODEL_24caae63ef5944e09289b2be8fa871b1",
            "value": "Once upon a time..."
          }
        },
        "4a008ac2a2d04856bb70f55b85c2ddb7": {
          "model_module": "@jupyter-widgets/base",
          "model_name": "LayoutModel",
          "model_module_version": "1.2.0",
          "state": {
            "_model_module": "@jupyter-widgets/base",
            "_model_module_version": "1.2.0",
            "_model_name": "LayoutModel",
            "_view_count": null,
            "_view_module": "@jupyter-widgets/base",
            "_view_module_version": "1.2.0",
            "_view_name": "LayoutView",
            "align_content": null,
            "align_items": null,
            "align_self": null,
            "border": null,
            "bottom": null,
            "display": null,
            "flex": null,
            "flex_flow": null,
            "grid_area": null,
            "grid_auto_columns": null,
            "grid_auto_flow": null,
            "grid_auto_rows": null,
            "grid_column": null,
            "grid_gap": null,
            "grid_row": null,
            "grid_template_areas": null,
            "grid_template_columns": null,
            "grid_template_rows": null,
            "height": null,
            "justify_content": null,
            "justify_items": null,
            "left": null,
            "margin": null,
            "max_height": null,
            "max_width": null,
            "min_height": null,
            "min_width": null,
            "object_fit": null,
            "object_position": null,
            "order": null,
            "overflow": null,
            "overflow_x": null,
            "overflow_y": null,
            "padding": null,
            "right": null,
            "top": null,
            "visibility": null,
            "width": null
          }
        },
        "24caae63ef5944e09289b2be8fa871b1": {
          "model_module": "@jupyter-widgets/controls",
          "model_name": "DescriptionStyleModel",
          "model_module_version": "1.5.0",
          "state": {
            "_model_module": "@jupyter-widgets/controls",
            "_model_module_version": "1.5.0",
            "_model_name": "DescriptionStyleModel",
            "_view_count": null,
            "_view_module": "@jupyter-widgets/base",
            "_view_module_version": "1.2.0",
            "_view_name": "StyleView",
            "description_width": ""
          }
        },
        "1564715f129d41a19041d74cb786bf72": {
          "model_module": "@jupyter-widgets/controls",
          "model_name": "ButtonModel",
          "model_module_version": "1.5.0",
          "state": {
            "_dom_classes": [],
            "_model_module": "@jupyter-widgets/controls",
            "_model_module_version": "1.5.0",
            "_model_name": "ButtonModel",
            "_view_count": null,
            "_view_module": "@jupyter-widgets/controls",
            "_view_module_version": "1.5.0",
            "_view_name": "ButtonView",
            "button_style": "",
            "description": "Generate Illustration",
            "disabled": false,
            "icon": "",
            "layout": "IPY_MODEL_e94b8d7aa8734d43bb37937ae61c8dae",
            "style": "IPY_MODEL_edac1b3494394cd19cfdc4ecbb095353",
            "tooltip": ""
          }
        },
        "e94b8d7aa8734d43bb37937ae61c8dae": {
          "model_module": "@jupyter-widgets/base",
          "model_name": "LayoutModel",
          "model_module_version": "1.2.0",
          "state": {
            "_model_module": "@jupyter-widgets/base",
            "_model_module_version": "1.2.0",
            "_model_name": "LayoutModel",
            "_view_count": null,
            "_view_module": "@jupyter-widgets/base",
            "_view_module_version": "1.2.0",
            "_view_name": "LayoutView",
            "align_content": null,
            "align_items": null,
            "align_self": null,
            "border": null,
            "bottom": null,
            "display": null,
            "flex": null,
            "flex_flow": null,
            "grid_area": null,
            "grid_auto_columns": null,
            "grid_auto_flow": null,
            "grid_auto_rows": null,
            "grid_column": null,
            "grid_gap": null,
            "grid_row": null,
            "grid_template_areas": null,
            "grid_template_columns": null,
            "grid_template_rows": null,
            "height": null,
            "justify_content": null,
            "justify_items": null,
            "left": null,
            "margin": null,
            "max_height": null,
            "max_width": null,
            "min_height": null,
            "min_width": null,
            "object_fit": null,
            "object_position": null,
            "order": null,
            "overflow": null,
            "overflow_x": null,
            "overflow_y": null,
            "padding": null,
            "right": null,
            "top": null,
            "visibility": null,
            "width": null
          }
        },
        "edac1b3494394cd19cfdc4ecbb095353": {
          "model_module": "@jupyter-widgets/controls",
          "model_name": "ButtonStyleModel",
          "model_module_version": "1.5.0",
          "state": {
            "_model_module": "@jupyter-widgets/controls",
            "_model_module_version": "1.5.0",
            "_model_name": "ButtonStyleModel",
            "_view_count": null,
            "_view_module": "@jupyter-widgets/base",
            "_view_module_version": "1.2.0",
            "_view_name": "StyleView",
            "button_color": null,
            "font_weight": ""
          }
        },
        "75dd334248f84cb1ac5446360ea28c95": {
          "model_module": "@jupyter-widgets/output",
          "model_name": "OutputModel",
          "model_module_version": "1.0.0",
          "state": {
            "_dom_classes": [],
            "_model_module": "@jupyter-widgets/output",
            "_model_module_version": "1.0.0",
            "_model_name": "OutputModel",
            "_view_count": null,
            "_view_module": "@jupyter-widgets/output",
            "_view_module_version": "1.0.0",
            "_view_name": "OutputView",
            "layout": "IPY_MODEL_869b73165c424728a12c5c7f9f88ffcf",
            "msg_id": "",
            "outputs": []
          }
        },
        "869b73165c424728a12c5c7f9f88ffcf": {
          "model_module": "@jupyter-widgets/base",
          "model_name": "LayoutModel",
          "model_module_version": "1.2.0",
          "state": {
            "_model_module": "@jupyter-widgets/base",
            "_model_module_version": "1.2.0",
            "_model_name": "LayoutModel",
            "_view_count": null,
            "_view_module": "@jupyter-widgets/base",
            "_view_module_version": "1.2.0",
            "_view_name": "LayoutView",
            "align_content": null,
            "align_items": null,
            "align_self": null,
            "border": null,
            "bottom": null,
            "display": null,
            "flex": null,
            "flex_flow": null,
            "grid_area": null,
            "grid_auto_columns": null,
            "grid_auto_flow": null,
            "grid_auto_rows": null,
            "grid_column": null,
            "grid_gap": null,
            "grid_row": null,
            "grid_template_areas": null,
            "grid_template_columns": null,
            "grid_template_rows": null,
            "height": null,
            "justify_content": null,
            "justify_items": null,
            "left": null,
            "margin": null,
            "max_height": null,
            "max_width": null,
            "min_height": null,
            "min_width": null,
            "object_fit": null,
            "object_position": null,
            "order": null,
            "overflow": null,
            "overflow_x": null,
            "overflow_y": null,
            "padding": null,
            "right": null,
            "top": null,
            "visibility": null,
            "width": null
          }
        }
      }
    }
  },
  "cells": [
    {
      "cell_type": "markdown",
      "metadata": {
        "id": "view-in-github",
        "colab_type": "text"
      },
      "source": [
        "<a href=\"https://colab.research.google.com/github/SAnmol26/GenAI/blob/main/story_generator.ipynb\" target=\"_parent\"><img src=\"https://colab.research.google.com/assets/colab-badge.svg\" alt=\"Open In Colab\"/></a>"
      ]
    },
    {
      "cell_type": "markdown",
      "source": [
        "# ***GROUP-5***\n",
        "## Anmolpreet Sidhu (4344978)\n",
        "## Rishpal Singh (4332379)"
      ],
      "metadata": {
        "id": "lU9uKH-awphh"
      }
    },
    {
      "cell_type": "markdown",
      "source": [
        "# PROJECT- STORY ILLUSTRATION GENERATOR\n",
        "The \"**Story Illustration Generator**\" project is a creative and user-friendly tool developed in google collab notebook.  Through this interactive interface, users can create story illustrations dynamically.The ability to choose characters and backgrounds, enter text for a personalised story, and create a visual depiction of one's own narrative are some of the main features.The project aims to provide a fun environment where users can actively participate in the storytelling process by transforming their narratives.\n"
      ],
      "metadata": {
        "id": "IqtcCUppxLo6"
      }
    },
    {
      "cell_type": "markdown",
      "source": [
        "# **OBJECTIVES:**\n",
        "\n",
        "*   Enable users to actively engage in the storytelling process by providing an interactive platform where they can input their narrative.\n",
        "*   Create an interactive platform that is simple to use so that users can choose characters, backgrounds, and other elements with ease.\n",
        "\n",
        "*    Provide users with a range of customization options, such as choosing characters, setting scenes, and inputting text, to improve the personalization of generated illustrations.\n",
        "*    Develop a system that dynamically generates illustrations based on user input, creating visual representations that align with the provided story.\n",
        "\n",
        "# **OUTCOMES**\n",
        "\n",
        "*   Users will have an engaging and interactive experience, transforming their narratives into visual illustrations.\n",
        "*   The project can serve as an educational tool, developing creativity and storytelling skills among users, particularly children and students.\n",
        "\n",
        "*  Anyone looking for ideas for storytelling, either educators or writers, can draw inspiration from the illustrations that are generated.\n",
        "\n",
        "\n",
        "\n",
        "\n",
        "\n",
        "\n",
        "\n",
        "\n",
        "\n",
        "\n",
        "\n"
      ],
      "metadata": {
        "id": "orBKTvoPdojl"
      }
    },
    {
      "cell_type": "code",
      "source": [
        "from PIL import Image, ImageDraw, ImageFont\n",
        "from IPython.display import display\n",
        "import ipywidgets as widgets\n",
        "\n",
        "def generate_illustration(character, background, text, output_path):\n",
        "    # Open background image\n",
        "    bg_img = Image.open(background)\n",
        "    bg_width, bg_height = bg_img.size\n",
        "\n",
        "    # Open character image\n",
        "    char_img = Image.open(character)\n",
        "    char_img = char_img.resize((100, 100))  # Resize character image (adjust as needed)\n",
        "\n",
        "    # Create a blank image with the same size as the background\n",
        "    img = Image.new(\"RGB\", (bg_width, bg_height), color=(255, 255, 255))\n",
        "    img.paste(bg_img, (0, 0))\n",
        "\n",
        "    # Paste the character onto the background\n",
        "    img.paste(char_img, (bg_width // 2 - 50, bg_height // 2 - 50), char_img)\n",
        "\n",
        "    # Load a font\n",
        "    font_path = \"/usr/share/fonts/truetype/dejavu/DejaVuSans-Bold.ttf\"\n",
        "    font_size = 20\n",
        "    font = ImageFont.truetype(font_path, font_size)\n",
        "\n",
        "    # Create a drawing context\n",
        "    draw = ImageDraw.Draw(img)\n",
        "\n",
        "    # Add text to the image\n",
        "    text_width, text_height = draw.textsize(text, font)\n",
        "    text_position = ((bg_width - text_width) // 2, bg_height - text_height - 10)\n",
        "    draw.text(text_position, text, (0, 0, 0), font=font)\n",
        "\n",
        "    # Save the illustration\n",
        "    img.save(output_path)\n",
        "\n",
        "# Define interactive widgets\n",
        "character_widget = widgets.Dropdown(\n",
        "    options=[\"character1.jpg\", \"character2.jpg\"],  # Add your own character images\n",
        "    value=\"character1.jpg\",\n",
        "    description=\"Select Character:\",\n",
        ")\n",
        "\n",
        "background_widget = widgets.Dropdown(\n",
        "    options=[\"background1.jpg\", \"background2.jpg\"],  # Add your own background images\n",
        "    value=\"background1.jpg\",\n",
        "    description=\"Select Background:\",\n",
        ")\n",
        "\n",
        "text_widget = widgets.Text(\n",
        "    value=\"Once upon a time...\",\n",
        "    description=\"Story Text:\",\n",
        ")\n",
        "\n",
        "output_widget = widgets.Output()\n",
        "\n",
        "def generate_button_clicked(_):\n",
        "    output_widget.clear_output()\n",
        "    with output_widget:\n",
        "        generate_illustration(\n",
        "            character=character_widget.value,\n",
        "            background=background_widget.value,\n",
        "            text=text_widget.value,\n",
        "            output_path=\"generated_illustration.jpg\",\n",
        "        )\n",
        "\n",
        "# Define the generate button\n",
        "generate_button = widgets.Button(description=\"Generate Illustration\")\n",
        "generate_button.on_click(generate_button_clicked)\n",
        "\n",
        "# Display widgets\n",
        "display(character_widget, background_widget, text_widget, generate_button, output_widget)\n"
      ],
      "metadata": {
        "colab": {
          "base_uri": "https://localhost:8080/",
          "height": 141,
          "referenced_widgets": [
            "1956eeb9e5ff46a29dad3905555c4382",
            "eba4351e431e4e0e976ced802e2abf8a",
            "0ed5788cb7a343c8aa0d5a978f1d0dd2",
            "9d5f1bfec18d4a6d90ddc03d2bf7511a",
            "bf959edd6c1a42f3b23d93c3d420837d",
            "7a2ded9c7f284b55bb100765462202b4",
            "0dcb638cd21441a6b09a612d4b9359cc",
            "4a008ac2a2d04856bb70f55b85c2ddb7",
            "24caae63ef5944e09289b2be8fa871b1",
            "1564715f129d41a19041d74cb786bf72",
            "e94b8d7aa8734d43bb37937ae61c8dae",
            "edac1b3494394cd19cfdc4ecbb095353",
            "75dd334248f84cb1ac5446360ea28c95",
            "869b73165c424728a12c5c7f9f88ffcf"
          ]
        },
        "id": "FgW1DLTuMfDZ",
        "outputId": "819141b1-518b-402b-cb39-457d7344bc2b"
      },
      "execution_count": null,
      "outputs": [
        {
          "output_type": "display_data",
          "data": {
            "text/plain": [
              "Dropdown(description='Select Character:', options=('character1.jpg', 'character2.jpg'), value='character1.jpg'…"
            ],
            "application/vnd.jupyter.widget-view+json": {
              "version_major": 2,
              "version_minor": 0,
              "model_id": "1956eeb9e5ff46a29dad3905555c4382"
            }
          },
          "metadata": {}
        },
        {
          "output_type": "display_data",
          "data": {
            "text/plain": [
              "Dropdown(description='Select Background:', options=('background1.jpg', 'background2.jpg'), value='background1.…"
            ],
            "application/vnd.jupyter.widget-view+json": {
              "version_major": 2,
              "version_minor": 0,
              "model_id": "9d5f1bfec18d4a6d90ddc03d2bf7511a"
            }
          },
          "metadata": {}
        },
        {
          "output_type": "display_data",
          "data": {
            "text/plain": [
              "Text(value='Once upon a time...', description='Story Text:')"
            ],
            "application/vnd.jupyter.widget-view+json": {
              "version_major": 2,
              "version_minor": 0,
              "model_id": "0dcb638cd21441a6b09a612d4b9359cc"
            }
          },
          "metadata": {}
        },
        {
          "output_type": "display_data",
          "data": {
            "text/plain": [
              "Button(description='Generate Illustration', style=ButtonStyle())"
            ],
            "application/vnd.jupyter.widget-view+json": {
              "version_major": 2,
              "version_minor": 0,
              "model_id": "1564715f129d41a19041d74cb786bf72"
            }
          },
          "metadata": {}
        },
        {
          "output_type": "display_data",
          "data": {
            "text/plain": [
              "Output()"
            ],
            "application/vnd.jupyter.widget-view+json": {
              "version_major": 2,
              "version_minor": 0,
              "model_id": "75dd334248f84cb1ac5446360ea28c95"
            }
          },
          "metadata": {}
        }
      ]
    },
    {
      "cell_type": "markdown",
      "source": [
        "#**MODIFICATIONS**\n",
        "\n",
        "*   The code uses **'ipywidgets'** to create dropdowns and a text box for users to select characters, backgrounds, and enter story text.\n",
        "*    The **'generate_button'** widget triggers the **'generate_button_clicked'** function when clicked.\n",
        "\n",
        "*  The **'generate_illustration'** function combines the selected character, background, and story text to create an illustration.\n",
        "*   The generated illustration is displayed in the notebook.\n",
        "\n",
        "*   Users can interactively choose characters, backgrounds, and enter story text to create their own illustrations.\n",
        "\n",
        "\n",
        "\n",
        "\n",
        "\n",
        "\n"
      ],
      "metadata": {
        "id": "SeQl4yUzrt3l"
      }
    },
    {
      "cell_type": "markdown",
      "source": [
        "# **REFERENCES**\n",
        "\n",
        "*   https://github.com/andreasjansson/cog-stable-diffusion\n",
        "*   https://github.com/turna1/GenAI/edit/main/README.md\n",
        "\n",
        "   \n",
        "\n"
      ],
      "metadata": {
        "id": "m1DD64_35Ye4"
      }
    }
  ]
}
